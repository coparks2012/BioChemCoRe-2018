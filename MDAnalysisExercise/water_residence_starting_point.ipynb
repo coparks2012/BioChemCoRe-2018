{
 "cells": [
  {
   "cell_type": "code",
   "execution_count": null,
   "metadata": {
    "collapsed": true
   },
   "outputs": [],
   "source": [
    "import mdtraj as md\n",
    "import numpy as np\n",
    "import matplotlib.pyplot as plt"
   ]
  },
  {
   "cell_type": "code",
   "execution_count": null,
   "metadata": {},
   "outputs": [],
   "source": [
    "# We load the trajectory using a topology file (in this case a pdb) and a trajectory file (the dcd)\n",
    "traj = md.load('exampleTraj.dcd', top='exampleProtein.pdb')\n",
    "\n",
    "# And get the number of frames in our trajectory\n",
    "numFrames = len(traj)"
   ]
  },
  {
   "cell_type": "code",
   "execution_count": null,
   "metadata": {},
   "outputs": [],
   "source": [
    "# Prepare a list to contain the atom numbers of each first shell water's oxygen in each frame\n",
    "firstShells = []\n",
    "\n",
    "proteinSelection = traj.topology.select('protein')\n",
    "waterSelection = traj.topology.select('water and name O')\n",
    "## Select all the water oxygens within 2 angstroms of the protein.\n",
    "watersNearProtein = md.compute_neighbors(traj, \n",
    "                                         0.2, \n",
    "                                         proteinSelection,\n",
    "                                         haystack_indices=waterSelection)\n",
    "\n",
    "# Make a \"set\" based on these numbers. You'll see why sets are useful later\n",
    "watersNearProtein = [set(i) for i in watersNearProtein]"
   ]
  },
  {
   "cell_type": "code",
   "execution_count": null,
   "metadata": {},
   "outputs": [],
   "source": [
    "firstOverlapMat = np.zeros((numFrames, numFrames))\n",
    "for i in range(numFrames):\n",
    "    for j in range(i, numFrames):\n",
    "        overlap = len(watersNearProtein[i] & watersNearProtein[j])\n",
    "        firstOverlapMat[i,j] = overlap\n",
    "        firstOverlapMat[j,i] = overlap\n",
    "        "
   ]
  },
  {
   "cell_type": "code",
   "execution_count": null,
   "metadata": {},
   "outputs": [],
   "source": [
    "plt.imshow(firstOverlapMat)\n",
    "plt.colorbar()\n",
    "plt.show()"
   ]
  },
  {
   "cell_type": "code",
   "execution_count": null,
   "metadata": {},
   "outputs": [],
   "source": [
    "# Prepare a numpy array (a generally useful format for large amounts of data) to hold \n",
    "# the frame-to-frame similarity values\n",
    "firstOverlapMat = np.zeros((numFrames, numFrames))\n",
    "nLeftList = []\n",
    "nStayedList = []\n",
    "\n",
    "# Now we go through each frame and compare it to all the others\n",
    "for frameIndex in range(numFrames-1):\n",
    "    # Here's one handy thing we can do with sets - subtraction find the elements of \n",
    "    # one set that aren't in another\n",
    "    watersThatLeft = watersNearProtein[frameIndex] - watersNearProtein[frameIndex+1]\n",
    "    # And the len() of a set is the number of items in it\n",
    "    numWatersThatLeft = len(watersThatLeft)\n",
    "    # The & operator returns items which appear in both \n",
    "    watersThatStayed = watersNearProtein[frameIndex] & watersNearProtein[frameIndex+1]\n",
    "    numWatersThatStayed = len(watersThatStayed)\n",
    "    \n",
    "    print '%i waters left the first shell this frame, and %i stayed' %(numWatersThatLeft,numWatersThatStayed)\n",
    "\n",
    "    # Store the results in a list\n",
    "    nLeftList.append(numWatersThatLeft)\n",
    "    nStayedList.append(numWatersThatStayed)\n",
    "\n"
   ]
  },
  {
   "cell_type": "code",
   "execution_count": null,
   "metadata": {},
   "outputs": [],
   "source": [
    "# And now we can use the pylab module to plot them\n",
    "plt.plot(nLeftList,label='Number of waters that left')\n",
    "plt.plot(nStayedList,label='Number of waters that stayed')\n",
    "plt.legend()\n",
    "plt.show()\n"
   ]
  }
 ],
 "metadata": {
  "kernelspec": {
   "display_name": "Python 2",
   "language": "python",
   "name": "python2"
  },
  "language_info": {
   "codemirror_mode": {
    "name": "ipython",
    "version": 2
   },
   "file_extension": ".py",
   "mimetype": "text/x-python",
   "name": "python",
   "nbconvert_exporter": "python",
   "pygments_lexer": "ipython2",
   "version": "2.7.12"
  }
 },
 "nbformat": 4,
 "nbformat_minor": 2
}
